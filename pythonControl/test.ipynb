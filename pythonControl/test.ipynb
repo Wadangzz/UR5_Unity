{
 "cells": [
  {
   "cell_type": "code",
   "execution_count": 1,
   "id": "3a9e165a",
   "metadata": {},
   "outputs": [],
   "source": [
    "import sqlite3"
   ]
  },
  {
   "cell_type": "code",
   "execution_count": null,
   "id": "4e3840e8",
   "metadata": {},
   "outputs": [],
   "source": [
    "for i in range(1, 10):\n",
    "\n",
    "create_sql_table = \"\"\"\n",
    "CREATE TABLE program_1 (\n",
    "                        id INTEGER PRIMARY KEY AUTOINCREMENT,\n",
    "                        name TEXT NOT NULL,\n",
    "                        description TEXT NOT NULL,\n",
    "                        price INTEGER,\n",
    "                        quantity INTEGER);\n",
    "                        \"\"\""
   ]
  }
 ],
 "metadata": {
  "kernelspec": {
   "display_name": "Numerical_IK",
   "language": "python",
   "name": "python3"
  },
  "language_info": {
   "codemirror_mode": {
    "name": "ipython",
    "version": 3
   },
   "file_extension": ".py",
   "mimetype": "text/x-python",
   "name": "python",
   "nbconvert_exporter": "python",
   "pygments_lexer": "ipython3",
   "version": "3.9.21"
  }
 },
 "nbformat": 4,
 "nbformat_minor": 5
}
