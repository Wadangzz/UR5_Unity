{
 "cells": [
  {
   "cell_type": "code",
   "execution_count": 1,
   "id": "a80a1cca",
   "metadata": {},
   "outputs": [],
   "source": [
    "import numpy as np\n",
    "import Robot\n",
    "import matplotlib.pyplot as plt\n",
    "import MyRobotMath as math\n",
    "from MyRobotMath import SE3, quintic_time_scaling\n",
    "from scipy.spatial.transform import Rotation as R\n",
    "\n",
    "scara = Robot.SCARA(2,1,1)\n",
    "se3 = SE3()\n",
    "M = scara.zero\n",
    "S = scara.S_tw\n",
    "B = scara.B_tw\n",
    "N = len(scara.joints)"
   ]
  },
  {
   "cell_type": "code",
   "execution_count": 2,
   "id": "1089bea0",
   "metadata": {},
   "outputs": [
    {
     "ename": "AttributeError",
     "evalue": "'tuple' object has no attribute 'reshape'",
     "output_type": "error",
     "traceback": [
      "\u001b[1;31m---------------------------------------------------------------------------\u001b[0m",
      "\u001b[1;31mAttributeError\u001b[0m                            Traceback (most recent call last)",
      "Cell \u001b[1;32mIn[2], line 36\u001b[0m\n\u001b[0;32m     33\u001b[0m V_bd \u001b[38;5;241m=\u001b[39m se3\u001b[38;5;241m.\u001b[39mmatlogm(T_bd) \u001b[38;5;66;03m# Ralative Twist, 각도 오차\u001b[39;00m\n\u001b[0;32m     35\u001b[0m theta \u001b[38;5;241m=\u001b[39m math\u001b[38;5;241m.\u001b[39mdeg2rad(init,scara\u001b[38;5;241m.\u001b[39mjoints)\n\u001b[1;32m---> 36\u001b[0m thetak \u001b[38;5;241m=\u001b[39m theta\u001b[38;5;241m.\u001b[39mreshape(N,\u001b[38;5;241m1\u001b[39m) \u001b[38;5;241m+\u001b[39m J_pseudo \u001b[38;5;241m@\u001b[39m \u001b[43mV_bd\u001b[49m\u001b[38;5;241;43m.\u001b[39;49m\u001b[43mreshape\u001b[49m(\u001b[38;5;241m6\u001b[39m,\u001b[38;5;241m1\u001b[39m) \u001b[38;5;66;03m# Newton Raphson Method\u001b[39;00m\n\u001b[0;32m     37\u001b[0m thetak \u001b[38;5;241m=\u001b[39m math\u001b[38;5;241m.\u001b[39mrad2deg(thetak,scara\u001b[38;5;241m.\u001b[39mjoints) \u001b[38;5;66;03m# radian to degree\u001b[39;00m\n\u001b[0;32m     38\u001b[0m init \u001b[38;5;241m=\u001b[39m math\u001b[38;5;241m.\u001b[39mtheta_normalize(thetak,scara\u001b[38;5;241m.\u001b[39mjoints) \u001b[38;5;66;03m# 각도 정규화 (-180~180)\u001b[39;00m\n",
      "\u001b[1;31mAttributeError\u001b[0m: 'tuple' object has no attribute 'reshape'"
     ]
    }
   ],
   "source": [
    "desired = [0.6,0.4,1.2,0,0,-77] # 목표 자세의 (x,y,z,roll,pitch,yaw)\n",
    "T_d = se3.pose_to_SE3(desired) # 목표 자세의 Tranformation Matrix\n",
    "threshold = 1e-6 # 오차 범위\n",
    "count = 0\n",
    "\n",
    "init = [0,0,0,0]\n",
    "\n",
    "while True:\n",
    "\n",
    "    matexps_b = []\n",
    "    matexps_s = []\n",
    "\n",
    "    count += 1 # 연산 횟수 증가\n",
    "\n",
    "    for i in range(N):\n",
    "        matexps_b.append(se3.matexp(init[i],B[i],joint=scara.joints[i].type)) # Body Axis 기준 각 축의 Matrix Exponential\n",
    "        matexps_s.append(se3.matexp(init[i],S[i],joint=scara.joints[i].type)) # Space Axis 기준 각 축의 Matrix Exponential\n",
    "\n",
    "    T_sb = se3.matFK(M,matexps_b) # Forward Kinematics 적용 변환행렬\n",
    "    estimated = []\n",
    "    for i in range(3):\n",
    "        estimated.append(T_sb[i,3].item()) # 현재 x, y, z\n",
    "    \n",
    "    eulerAngles = se3.CurrenntAngles(T_sb)\n",
    "    for eulerAngle in eulerAngles:\n",
    "        estimated.append(eulerAngle) # Euler 각도 추정값\n",
    "\n",
    "    pos_err = np.array(desired[:3]) - np.array(estimated[:3]) # x, y, z 오차\n",
    "\n",
    "    T_bd = np.dot(np.linalg.inv(T_sb),T_d) # Relative Trasformation Matrix\n",
    "    J_b = se3.body_jacobian(M,matexps_b,matexps_s,S) # Body Jacobian\n",
    "    J_pseudo = se3.j_inv(J_b) # Jacobian의 역행렬 (또는 의사역행렬)\n",
    "    V_bd = se3.matlogm(T_bd) # Ralative Twist, 각도 오차\n",
    "\n",
    "    theta = math.deg2rad(init,scara.joints)\n",
    "    thetak = theta.reshape(N,1) + J_pseudo @ V_bd.reshape(6,1) # Newton Raphson Method\n",
    "    thetak = math.rad2deg(thetak,scara.joints) # radian to degree\n",
    "    init = math.theta_normalize(thetak,scara.joints) # 각도 정규화 (-180~180)\n",
    "\n",
    "    if np.all(np.abs(pos_err) < threshold): # 오차가 임계값 이내면 break\n",
    "        print(estimated)\n",
    "        print(f\"연산 횟수 : {count}, Joint Value : {init}\")\n",
    "        break\n"
   ]
  },
  {
   "cell_type": "code",
   "execution_count": 5,
   "id": "ebfa5641",
   "metadata": {},
   "outputs": [],
   "source": [
    "end = init\n",
    "\n",
    "matexps = []\n",
    "\n",
    "for i in range(N):\n",
    "    matexps.append(se3.matexp(scara.joints[i].type,end[i],B[i])) # Body Axis 기준 각 축의 Matrix Exponential"
   ]
  },
  {
   "cell_type": "code",
   "execution_count": null,
   "id": "233047a8",
   "metadata": {},
   "outputs": [],
   "source": [
    "for matexp in matexps:\n",
    "    print(matexp)"
   ]
  },
  {
   "cell_type": "code",
   "execution_count": null,
   "id": "d36e1288",
   "metadata": {},
   "outputs": [],
   "source": [
    "poses = [M]\n",
    "T = M\n",
    "for i in range(len(matexps)):\n",
    "    T = T @ matexps[i]\n",
    "    poses.append(T)\n",
    "\n",
    "for pose in poses:\n",
    "    print(pose)"
   ]
  },
  {
   "cell_type": "code",
   "execution_count": 6,
   "id": "ed305063",
   "metadata": {},
   "outputs": [],
   "source": [
    "def forward_kinematics_all_body(joint_values):\n",
    "    T = scara.zero.copy()\n",
    "    poses = [T.copy()]\n",
    "    for joint, val, tw in zip(scara.joints, joint_values, scara.B_tw):\n",
    "        T = T @ se3.matexp(joint.type, val, tw)\n",
    "        poses.append(T.copy())\n",
    "    return poses"
   ]
  },
  {
   "cell_type": "code",
   "execution_count": 7,
   "metadata": {},
   "outputs": [],
   "source": [
    "poses = forward_kinematics_all_body(end)"
   ]
  },
  {
   "cell_type": "code",
   "execution_count": null,
   "id": "22753fa8",
   "metadata": {},
   "outputs": [],
   "source": [
    "for i, pose in enumerate(poses):\n",
    "    print(f\"T{i}:\\n\", pose)"
   ]
  },
  {
   "cell_type": "code",
   "execution_count": null,
   "id": "49329821",
   "metadata": {},
   "outputs": [],
   "source": [
    "theta_start = np.array([135,45,0,0.2])\n",
    "theta_end = np.array(init)\n",
    "print(theta_start,theta_end)"
   ]
  },
  {
   "cell_type": "code",
   "execution_count": 10,
   "id": "1e7ce046",
   "metadata": {},
   "outputs": [],
   "source": [
    "T = 4.0\n",
    "N = 200\n",
    "\n",
    "trajectory = []\n",
    "velocity = []\n",
    "accelation = []\n",
    "\n",
    "for i in range(N):\n",
    "    t = i / N * T\n",
    "    s, s_dot, s_ddot = quintic_time_scaling(t, T)\n",
    "    theta_desired = theta_start + s*(theta_end-theta_start)\n",
    "    theta_dot = s_dot*(theta_end-theta_start)\n",
    "    theta_ddot = s_ddot*(theta_end-theta_start)\n",
    "    trajectory.append(theta_desired)\n",
    "    velocity.append(theta_dot)\n",
    "    accelation.append(theta_ddot)\n",
    "\n",
    "trajectory = np.array(trajectory).T  # shape = (4, N)\n",
    "velocity = np.array(velocity).T\n",
    "accelation = np.array(accelation).T"
   ]
  },
  {
   "cell_type": "code",
   "execution_count": null,
   "id": "1a930bdc",
   "metadata": {},
   "outputs": [],
   "source": [
    "plt.figure(figsize=(10, 6))\n",
    "for i, joint in enumerate([\"θ1\", \"θ2\", \"θ3\", \"d4\"]):\n",
    "    plt.plot(np.linspace(0, T, N), trajectory[i], label=joint)\n",
    "\n",
    "plt.xlabel(\"Time (s)\")\n",
    "plt.ylabel(\"Joint Value\")\n",
    "plt.title(\"SCARA Joint Trajectory\")\n",
    "plt.grid(True)\n",
    "plt.legend()\n",
    "plt.tight_layout()\n",
    "plt.show()"
   ]
  },
  {
   "cell_type": "code",
   "execution_count": null,
   "id": "5be316d3",
   "metadata": {},
   "outputs": [],
   "source": [
    "plt.figure(figsize=(10, 6))\n",
    "for i, joint in enumerate([\"θ1\", \"θ2\", \"θ3\", \"d4\"]):\n",
    "    plt.plot(np.linspace(0, T, N), velocity[i], label=joint)\n",
    "\n",
    "plt.xlabel(\"Time (s)\")\n",
    "plt.ylabel(\"Velocity Value\")\n",
    "plt.title(\"SCARA Joint Trajectory\")\n",
    "plt.grid(True)\n",
    "plt.legend()\n",
    "plt.tight_layout()\n",
    "plt.show()"
   ]
  },
  {
   "cell_type": "code",
   "execution_count": 15,
   "id": "740c708a",
   "metadata": {},
   "outputs": [
    {
     "name": "stdout",
     "output_type": "stream",
     "text": [
      "[0. 0. 0.]\n"
     ]
    }
   ],
   "source": [
    "print(np.zeros(3))"
   ]
  },
  {
   "cell_type": "code",
   "execution_count": 6,
   "id": "824e1ea2",
   "metadata": {},
   "outputs": [],
   "source": [
    "desired = [10,-134,24,0,0,-135]\n",
    "start = [150,0,50,0,0,0]"
   ]
  },
  {
   "cell_type": "code",
   "execution_count": 7,
   "id": "c886347e",
   "metadata": {},
   "outputs": [],
   "source": [
    "T1 = se3.pose_to_SE3(desired)\n",
    "T0 = se3.pose_to_SE3(start)"
   ]
  },
  {
   "cell_type": "code",
   "execution_count": null,
   "id": "8ea688ab",
   "metadata": {},
   "outputs": [],
   "source": [
    "print(np.linalg.inv(T0)@T1)"
   ]
  },
  {
   "cell_type": "code",
   "execution_count": 4,
   "id": "3edad84f",
   "metadata": {},
   "outputs": [
    {
     "name": "stdout",
     "output_type": "stream",
     "text": [
      "114.59155902616465\n"
     ]
    }
   ],
   "source": [
    "theta = 2\n",
    "print(np.rad2deg(theta))"
   ]
  },
  {
   "cell_type": "code",
   "execution_count": 8,
   "id": "3a3e8411",
   "metadata": {},
   "outputs": [],
   "source": [
    "arr = [0,0,0]"
   ]
  },
  {
   "cell_type": "code",
   "execution_count": 9,
   "id": "9e92ec38",
   "metadata": {},
   "outputs": [],
   "source": [
    "x,y,z=arr"
   ]
  },
  {
   "cell_type": "code",
   "execution_count": 12,
   "id": "3dd4803a",
   "metadata": {},
   "outputs": [],
   "source": [
    "test = list(input())"
   ]
  },
  {
   "cell_type": "code",
   "execution_count": null,
   "id": "273b49e2",
   "metadata": {},
   "outputs": [],
   "source": [
    "desired = []\n",
    "coodinate = ['x','y','z','roll','pitch','yaw']\n",
    "for i, comp in enumerate(coodinate):\n",
    "    desired.append(float(input(f\"{comp} : \")))\n",
    "    "
   ]
  },
  {
   "cell_type": "code",
   "execution_count": 15,
   "id": "e38dc2d0",
   "metadata": {},
   "outputs": [
    {
     "name": "stdout",
     "output_type": "stream",
     "text": [
      "[1.0, 2.0, 3.0, 4.0, 5.0, 6.0]\n"
     ]
    }
   ],
   "source": [
    "print(desired)"
   ]
  },
  {
   "cell_type": "code",
   "execution_count": 12,
   "id": "d2512d90",
   "metadata": {},
   "outputs": [
    {
     "name": "stdout",
     "output_type": "stream",
     "text": [
      "[[ 0.27596319 -0.44699833  0.85090352]\n",
      " [ 0.82735079 -0.34012228 -0.44699833]\n",
      " [ 0.48921876  0.82735079  0.27596319]]\n"
     ]
    }
   ],
   "source": [
    "rotmat = R.from_euler('zyx',[45,45,45]).as_matrix()\n",
    "print(rotmat)"
   ]
  },
  {
   "cell_type": "code",
   "execution_count": 13,
   "id": "3bdaf2e9",
   "metadata": {},
   "outputs": [
    {
     "name": "stdout",
     "output_type": "stream",
     "text": [
      "[58.31007809 58.31007809 58.31007809]\n"
     ]
    }
   ],
   "source": [
    "euler = R.from_matrix(rotmat).as_euler('zyx', degrees=True)\n",
    "print(euler)"
   ]
  },
  {
   "cell_type": "code",
   "execution_count": 11,
   "id": "af389063",
   "metadata": {},
   "outputs": [
    {
     "name": "stdout",
     "output_type": "stream",
     "text": [
      "[[ 0.22850753  0.92426497  0.30580807]\n",
      " [ 0.07722575 -0.3303379   0.94069817]\n",
      " [ 0.97047437 -0.19134036 -0.14686175]]\n"
     ]
    }
   ],
   "source": [
    "rotmat = R.from_euler('zyx',[-54.7355,-9.735565,-30]).as_matrix()\n",
    "print(rotmat)"
   ]
  }
 ],
 "metadata": {
  "kernelspec": {
   "display_name": "Numerical_IK",
   "language": "python",
   "name": "python3"
  },
  "language_info": {
   "codemirror_mode": {
    "name": "ipython",
    "version": 3
   },
   "file_extension": ".py",
   "mimetype": "text/x-python",
   "name": "python",
   "nbconvert_exporter": "python",
   "pygments_lexer": "ipython3",
   "version": "3.9.21"
  }
 },
 "nbformat": 4,
 "nbformat_minor": 5
}
