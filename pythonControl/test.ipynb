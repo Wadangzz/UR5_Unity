{
 "cells": [
  {
   "cell_type": "code",
   "execution_count": 20,
   "id": "496e5709",
   "metadata": {},
   "outputs": [],
   "source": [
    "import sqlite3"
   ]
  },
  {
   "cell_type": "code",
   "execution_count": null,
   "id": "15bb64f7",
   "metadata": {},
   "outputs": [],
   "source": [
    "i = 0\n",
    "create_query = f\"\"\"\n",
    "CREATE TABLE IF NOT EXISTS Program_{i+1} (\n",
    "                        id INTEGER PRIMARY KEY AUTOINCREMENT,\n",
    "                        X REAL,\n",
    "                        Y REAL,\n",
    "                        Z REAL,\n",
    "                        qx REAL,\n",
    "                        qy REAL,\n",
    "                        qz REAL,\n",
    "                        qw REAL);\n",
    "                        \"\"\""
   ]
  },
  {
   "cell_type": "code",
   "execution_count": null,
   "id": "3c8ddfd0",
   "metadata": {},
   "outputs": [],
   "source": [
    "conn = sqlite3.connect('trajectory.db')\n",
    "cursor = conn.cursor()\n",
    "cursor.execute(f\"\"\"\n",
    "                CREATE TABLE IF NOT EXISTS Program (\n",
    "                    id INTEGER PRIMARY KEY AUTOINCREMENT,\n",
    "                    program_id TEXT,\n",
    "                    X REAL,\n",
    "                    Y REAL,\n",
    "                    Z REAL,\n",
    "                    qx REAL,\n",
    "                    qy REAL,\n",
    "                    qz REAL,\n",
    "                    qw REAL);\n",
    "                    \"\"\"\n",
    "conn.commit()\n",
    "conn.close()"
   ]
  }
 ],
 "metadata": {
  "kernelspec": {
   "display_name": "Numerical_IK",
   "language": "python",
   "name": "python3"
  },
  "language_info": {
   "codemirror_mode": {
    "name": "ipython",
    "version": 3
   },
   "file_extension": ".py",
   "mimetype": "text/x-python",
   "name": "python",
   "nbconvert_exporter": "python",
   "pygments_lexer": "ipython3",
   "version": "3.9.21"
  }
 },
 "nbformat": 4,
 "nbformat_minor": 5
}
